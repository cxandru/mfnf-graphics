{
 "cells": [
  {
   "cell_type": "code",
   "execution_count": 1,
   "metadata": {},
   "outputs": [],
   "source": [
    "import matplotlib.pyplot as plt\n",
    "import matplotlib\n",
    "%matplotlib inline\n",
    "import numpy as np\n",
    "\n",
    "def offset_style(horiz=1,vert=1):\n",
    "    \"\"\"generate offset parameters for a Text object, for function annotate or text.\n",
    "    The optional parameters define the direction\"\"\"\n",
    "    return dict(xytext=(horiz*2,vert*2),textcoords='offset points')"
   ]
  },
  {
   "cell_type": "markdown",
   "metadata": {},
   "source": [
    "The issue is that plots are created by changing some global state. \n",
    "What we actually want is a base plot on which we can plot diverging things.\n",
    "It looks like we have to draw the plots bottom up for each variation. \n",
    "That is frustrating. I'd be happy to find a solution."
   ]
  },
  {
   "cell_type": "code",
   "execution_count": 2,
   "metadata": {},
   "outputs": [],
   "source": [
    "############ global defaults for configuration\n",
    "slope = -.5\n",
    "offset = 1\n",
    "V_default= lambda x: slope*x\n",
    "A_default= lambda x: V_default(x)+offset\n",
    "color1 = 'red'\n",
    "color2 = 'blue'\n",
    "faded = 'grey'\n",
    "field_dim=5\n",
    "x = np.linspace(-field_dim/2,field_dim/2,100)"
   ]
  },
  {
   "cell_type": "code",
   "execution_count": 3,
   "metadata": {},
   "outputs": [],
   "source": [
    "#there seem to be too many ways to change these rc parameters\n",
    "plt.rc('text.latex',preamble=r\"\\usepackage{amsfonts}\")\n",
    "\n",
    "#Ok we've spent an inordinate amount of time on this problem now\n",
    "#We'll see if this is even better than tikz when we try to do the 3d graphics\n",
    "#I don't like that all the points are specified numerically instead of being calculated.\n",
    "plt.rc('mathtext',fontset='cm')\n",
    "plt.rc('text', usetex=True)\n",
    "plt.rc('font', family='serif')"
   ]
  },
  {
   "cell_type": "code",
   "execution_count": 43,
   "metadata": {},
   "outputs": [],
   "source": [
    "def setup():\n",
    "    #get plot data\n",
    "    fig,ax=plt.subplots(figsize=(4,4), dpi=150)\n",
    "\n",
    "    # Deactivate normal axes\n",
    "    for side in ['bottom','right','top','left']:\n",
    "        ax.spines[side].set_visible(False)\n",
    "    plt.xticks([])\n",
    "    plt.yticks([])\n",
    "    #fix aspect ratio\n",
    "    ax.set_aspect(1)\n",
    "\n",
    "    plt.xlim(-field_dim/2,field_dim/2)\n",
    "    plt.ylim(-field_dim/2,field_dim/2)\n",
    "\n",
    "    # Make custom axes with arrows\n",
    "    plt.quiver([0 , -field_dim/2],\n",
    "               [-field_dim/2,  0],\n",
    "               [0, field_dim],\n",
    "               [field_dim,0],angles='xy', scale_units='xy', scale=1,zorder=0)\n",
    "\n",
    "    ####### ℝ² annotation\n",
    "    plt.annotate(r\"$ V= \\mathbb{R}^2 $\", (2.0,2.5), **offset_style())"
   ]
  },
  {
   "cell_type": "code",
   "execution_count": 14,
   "metadata": {
    "scrolled": true
   },
   "outputs": [],
   "source": [
    "def plot_subspace(V=V_default):\n",
    "    plt.plot(x, V(x), color=color1)\n",
    "    plt.annotate('$U$', (1,V(1)),color=color1, **offset_style())\n",
    "\n",
    "def plot_affine_space(A=A_default,zorder=1):\n",
    "    plt.plot(x, A(x), c=color2, zorder=zorder)\n",
    "    ###### title\n",
    "\n",
    "def plot_addition_title(A=A_default):\n",
    "    ###### title\n",
    "    plt.annotate(\"$v+U = v'+U$\", (1,A(1)), color=color2, **offset_style())\n",
    "    \n",
    "def plot_support_vectors(A=A_default,xs=[-1,1], color='k',zorder=1):\n",
    "    ys=list(map(A, xs))\n",
    "    #draw vectors from the origin\n",
    "    zeroes=([0]*len(xs),[0]*len(xs))\n",
    "    plt.quiver(*zeroes,xs,ys, angles='xy', scale_units='xy', scale=1,color=color)\n",
    "\n",
    "    #annotate, taking into account position (to some extent) for offset also\n",
    "    for x,y,i in zip(xs,ys,range(len(xs))):\n",
    "        ha,right=('left',1) if x>=0 else ('right',-1)\n",
    "        plt.annotate('$v'+\"'\"*i+\"$\", (x/2,y/2),\n",
    "                 ha=ha,\n",
    "                 va='top', \n",
    "                 color=color,\n",
    "                 **offset_style(horiz=right,vert=-1)\n",
    "                )"
   ]
  },
  {
   "cell_type": "markdown",
   "metadata": {},
   "source": [
    "# $v+U=v'+U$"
   ]
  },
  {
   "cell_type": "code",
   "execution_count": 46,
   "metadata": {},
   "outputs": [
    {
     "data": {
      "image/png": "[encoded data removed]",
      "text/plain": [
       "<Figure size 600x600 with 1 Axes>"
      ]
     },
     "metadata": {},
     "output_type": "display_data"
    }
   ],
   "source": [
    "setup()\n",
    "plot_subspace()\n",
    "plot_affine_space()\n",
    "plot_addition_title()\n",
    "plot_support_vectors()\n",
    "plt.savefig(\"v+U'.svg\")"
   ]
  },
  {
   "cell_type": "markdown",
   "metadata": {},
   "source": [
    "# $v-v'\\in U$"
   ]
  },
  {
   "cell_type": "code",
   "execution_count": 38,
   "metadata": {},
   "outputs": [],
   "source": [
    "def plot_vector_diff(A=A_default,xs=(-1,1),zorder=1,color='k'):\n",
    "    \"Only works for two vectors\"\n",
    "    ys=list(map(A, xs))\n",
    "    plot_support_vectors()\n",
    "    plt.quiver((xs[1]),(ys[1]),(xs[0]-xs[1]),(ys[0]-ys[1]), angles='xy', scale_units='xy', scale=1,color=color)\n",
    "\n",
    "    plt.annotate(r\"$v-v'\\in U$\", ((xs[0]-xs[1])/2+xs[1],(ys[0]-ys[1])/2+ys[1]),\n",
    "                 ha='left',\n",
    "                 va='bottom', \n",
    "                 color=color,\n",
    "                 zorder=zorder,\n",
    "                 **offset_style()\n",
    "                )"
   ]
  },
  {
   "cell_type": "code",
   "execution_count": 47,
   "metadata": {},
   "outputs": [
    {
     "data": {
      "image/png": "[encoded data removed]",
      "text/plain": [
       "<Figure size 600x600 with 1 Axes>"
      ]
     },
     "metadata": {},
     "output_type": "display_data"
    }
   ],
   "source": [
    "setup()\n",
    "plot_subspace()\n",
    "plot_affine_space(zorder=.5)\n",
    "plot_vector_diff(color=color1)\n",
    "plt.savefig(\"v-v'.svg\")"
   ]
  }
 ],
 "metadata": {
  "kernelspec": {
   "display_name": "Python 3",
   "language": "python",
   "name": "python3"
  },
  "language_info": {
   "codemirror_mode": {
    "name": "ipython",
    "version": 3
   },
   "file_extension": ".py",
   "mimetype": "text/x-python",
   "name": "python",
   "nbconvert_exporter": "python",
   "pygments_lexer": "ipython3",
   "version": "3.7.1"
  }
 },
 "nbformat": 4,
 "nbformat_minor": 2
}
