{
 "cells": [
  {
   "cell_type": "code",
   "execution_count": 11,
   "metadata": {},
   "outputs": [],
   "source": []
  },
  {
   "cell_type": "code",
   "execution_count": 54,
   "metadata": {
    "scrolled": true
   },
   "outputs": [
    {
     "data": {
      "image/png": "[encoded data removed]",
      "text/plain": [
       "<Figure size 750x750 with 1 Axes>"
      ]
     },
     "metadata": {},
     "output_type": "display_data"
    }
   ],
   "source": [
    "import matplotlib.pyplot as plt\n",
    "import matplotlib\n",
    "%matplotlib inline\n",
    "import numpy as np\n",
    "\n",
    "\n",
    "#there seem to be too many ways to change these rc parameters\n",
    "plt.rc('text.latex',preamble=r\"\\usepackage{amsfonts}\")\n",
    "\n",
    "#Ok we've spent an inordinate amount of time on this problem now\n",
    "#We'll see if this is even better than tikz when we try to do the 3d graphics\n",
    "#I don't like that all the points are specified numerically instead of being calculated.\n",
    "plt.rc('mathtext',fontset='cm')\n",
    "plt.rc('text', usetex=True)\n",
    "plt.rc('font', family='serif')\n",
    "\n",
    "color1 = 'red'\n",
    "color2 = 'blue'\n",
    "faded = 'grey'\n",
    "\n",
    "field_dim=5\n",
    "x = np.linspace(-field_dim/2,field_dim/2,100)\n",
    "fig,ax=plt.subplots(figsize=(field_dim,field_dim), dpi=150)\n",
    "\n",
    "# Deactivate normal axes\n",
    "for side in ['bottom','right','top','left']:\n",
    "    ax.spines[side].set_visible(False)\n",
    "plt.xticks([])\n",
    "plt.yticks([])\n",
    "\n",
    "ax.set_aspect(1)\n",
    "\n",
    "def offset_style(horiz=1,vert=1):\n",
    "    \"\"\"offset text. the optional parameters define the direction\"\"\"\n",
    "    return dict(xytext=(horiz*2,vert*2),textcoords='offset points')\n",
    "\n",
    "# Make custom axes with arrows\n",
    "plt.quiver([0 , -field_dim/2],\n",
    "           [-field_dim/2,  0],\n",
    "           [0, field_dim],\n",
    "           [field_dim,0],angles='xy', scale_units='xy', scale=1)\n",
    "\n",
    "########## ℝ² annotation\n",
    "plt.annotate(r\"$ V= \\mathbb{R}^2 $\", (2.0,2.5), **offset_style())\n",
    "\n",
    "######### Plot SubVSpace\n",
    "V = lambda x: -x\n",
    "\n",
    "plt.plot(x, V(x), color=color1)\n",
    "plt.annotate('$U$', (1,V(1)),color=color1, **offset_style())\n",
    "\n",
    "\n",
    "######## Affine space\n",
    "A = lambda x: V(x)+2\n",
    "plt.plot(x, A(x), c=color2)\n",
    "\n",
    "\n",
    "####### Support vectors\n",
    "#x coords for intersection with A\n",
    "xs=[-1,1]\n",
    "ys=list(map(A, xs))\n",
    "#draw vectors from the origin\n",
    "zeroes=([0]*len(xs),[0]*len(xs))\n",
    "\n",
    "plt.quiver(*zeroes,xs,ys, angles='xy', scale_units='xy', scale=1)\n",
    "\n",
    "#annotate, taking into account position (to some extent) for offset also\n",
    "for x,y,i in zip(xs,ys,range(len(xs))):\n",
    "    ha,right=('left',1) if x>=0 else ('right',-1)\n",
    "    plt.annotate('$v'+\"'\"*i+\"$\", (x/2,y/2),\n",
    "             ha=ha,\n",
    "             va='top', **offset_style(horiz=right,vert=-1))\n",
    "\n",
    "###### title\n",
    "plt.annotate(\"$v+U = v'+U$\", (1,A(1)), color=color2, **offset_style())\n",
    "plt.show()\n",
    "\n",
    "##TODO: grey-out the arrows and make graphic illustrating v-v'∈U\n",
    "#find out some nice way to evolve it out of the prior graphic\n",
    "\n"
   ]
  }
 ],
 "metadata": {
  "kernelspec": {
   "display_name": "Python 3",
   "language": "python",
   "name": "python3"
  },
  "language_info": {
   "codemirror_mode": {
    "name": "ipython",
    "version": 3
   },
   "file_extension": ".py",
   "mimetype": "text/x-python",
   "name": "python",
   "nbconvert_exporter": "python",
   "pygments_lexer": "ipython3",
   "version": "3.7.1"
  }
 },
 "nbformat": 4,
 "nbformat_minor": 2
}
